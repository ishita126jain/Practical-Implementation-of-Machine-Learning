{
 "cells": [
  {
   "cell_type": "markdown",
   "id": "b9b38313",
   "metadata": {},
   "source": [
    "# Best Fit Slope and Intercept"
   ]
  },
  {
   "cell_type": "code",
   "execution_count": 34,
   "id": "9a564db0",
   "metadata": {},
   "outputs": [],
   "source": [
    "from statistics import mean\n",
    "import numpy as np\n",
    "import matplotlib.pyplot as plt\n",
    "import random"
   ]
  },
  {
   "cell_type": "code",
   "execution_count": 2,
   "id": "760b8581",
   "metadata": {},
   "outputs": [],
   "source": [
    "xs = np.array([1,2,3,4,5,6], dtype=np.float64)\n",
    "ys = np.array([5,4,6,5,6,7], dtype=np.float64)"
   ]
  },
  {
   "cell_type": "code",
   "execution_count": 3,
   "id": "66fa7268",
   "metadata": {},
   "outputs": [
    {
     "data": {
      "image/png": "[encoded data removed]",
      "text/plain": [
       "<Figure size 432x288 with 1 Axes>"
      ]
     },
     "metadata": {
      "needs_background": "light"
     },
     "output_type": "display_data"
    }
   ],
   "source": [
    "plt.scatter(xs, ys)\n",
    "plt.show()"
   ]
  },
  {
   "cell_type": "code",
   "execution_count": 4,
   "id": "e29456d5",
   "metadata": {},
   "outputs": [],
   "source": [
    "def best_fit_slope_and_intercept(xs, ys):\n",
    "    m = ( ( (mean(xs) * mean(ys)) - (mean(xs*ys)) ) / ( (mean(xs)**2) - (mean(xs**2)) ) )\n",
    "    c = mean(ys) - m * mean(xs)\n",
    "    return m, c"
   ]
  },
  {
   "cell_type": "code",
   "execution_count": 6,
   "id": "6c12a899",
   "metadata": {},
   "outputs": [],
   "source": [
    "slope, intercept = best_fit_slope_and_intercept(xs, ys)"
   ]
  },
  {
   "cell_type": "code",
   "execution_count": 7,
   "id": "aacef267",
   "metadata": {},
   "outputs": [
    {
     "name": "stdout",
     "output_type": "stream",
     "text": [
      "0.42857142857142866\n"
     ]
    }
   ],
   "source": [
    "print(slope)"
   ]
  },
  {
   "cell_type": "code",
   "execution_count": 8,
   "id": "8c665b18",
   "metadata": {},
   "outputs": [
    {
     "name": "stdout",
     "output_type": "stream",
     "text": [
      "4.0\n"
     ]
    }
   ],
   "source": [
    "print(intercept)"
   ]
  },
  {
   "cell_type": "code",
   "execution_count": 10,
   "id": "91bcb29b",
   "metadata": {},
   "outputs": [],
   "source": [
    "regression_line = [(slope*x)+intercept for x in xs]"
   ]
  },
  {
   "cell_type": "code",
   "execution_count": 13,
   "id": "d04c4339",
   "metadata": {},
   "outputs": [
    {
     "data": {
      "image/png": "[encoded data removed]",
      "text/plain": [
       "<Figure size 432x288 with 1 Axes>"
      ]
     },
     "metadata": {
      "needs_background": "light"
     },
     "output_type": "display_data"
    }
   ],
   "source": [
    "plt.scatter(xs,ys)\n",
    "plt.plot(xs, regression_line)\n",
    "plt.show()"
   ]
  },
  {
   "cell_type": "code",
   "execution_count": 18,
   "id": "9c6da8ad",
   "metadata": {},
   "outputs": [],
   "source": [
    "predict_x = 5.5\n",
    "predict_y = slope*predict_x + intercept"
   ]
  },
  {
   "cell_type": "code",
   "execution_count": 19,
   "id": "26bb41b6",
   "metadata": {},
   "outputs": [
    {
     "data": {
      "image/png": "[encoded data removed]",
      "text/plain": [
       "<Figure size 432x288 with 1 Axes>"
      ]
     },
     "metadata": {
      "needs_background": "light"
     },
     "output_type": "display_data"
    }
   ],
   "source": [
    "plt.scatter(xs,ys)\n",
    "plt.scatter(predict_x,predict_y, color = 'g')\n",
    "plt.plot(xs, regression_line)\n",
    "plt.show()"
   ]
  },
  {
   "cell_type": "markdown",
   "id": "a646aeb3",
   "metadata": {},
   "source": [
    "# R square"
   ]
  },
  {
   "cell_type": "code",
   "execution_count": 21,
   "id": "c77a8330",
   "metadata": {},
   "outputs": [],
   "source": [
    "#calculate squared error\n",
    "def squared_error(ys_orig, ys_line):\n",
    "    return sum((ys_line-ys_orig)**2)"
   ]
  },
  {
   "cell_type": "code",
   "execution_count": 24,
   "id": "c6ee9380",
   "metadata": {},
   "outputs": [],
   "source": [
    "#calculate coeffecient of determination\n",
    "def coefficient_of_determination(ys_orig, ys_line):\n",
    "    y_mean_line = [mean(ys_orig) for y in ys_orig]\n",
    "    squared_error_regr = squared_error(ys_orig, ys_line)\n",
    "    squared_error_y_mean = squared_error(ys_orig, y_mean_line)\n",
    "    return 1 - (squared_error_regr / squared_error_y_mean)"
   ]
  },
  {
   "cell_type": "code",
   "execution_count": 25,
   "id": "85ba371c",
   "metadata": {},
   "outputs": [],
   "source": [
    "r_squared = coefficient_of_determination(ys, regression_line)"
   ]
  },
  {
   "cell_type": "code",
   "execution_count": 26,
   "id": "20215cd0",
   "metadata": {},
   "outputs": [
    {
     "name": "stdout",
     "output_type": "stream",
     "text": [
      "0.5844155844155845\n"
     ]
    }
   ],
   "source": [
    "print(r_squared)"
   ]
  },
  {
   "cell_type": "markdown",
   "id": "9bffb0d7",
   "metadata": {},
   "source": [
    "# Testing assumption"
   ]
  },
  {
   "cell_type": "code",
   "execution_count": 38,
   "id": "79a0fc46",
   "metadata": {},
   "outputs": [],
   "source": [
    "#creating the dataset\n",
    "def create_dataset(hm, variance, step=2, coorelation= False):\n",
    "    val = 1\n",
    "    ys = []\n",
    "    for i in range(hm):\n",
    "        y = val + random.randrange(-variance, variance)\n",
    "        ys.append(y)\n",
    "        if coorelation and coorelation == 'pos' :\n",
    "            val+=step\n",
    "        elif coorelation and coorelation  == 'neg':\n",
    "            val-=step\n",
    "    xs = [i for i in range(len(ys))]\n",
    "    return np.array(xs, dtype=np.float64), np.array(ys, dtype=np.float64)\n"
   ]
  },
  {
   "cell_type": "code",
   "execution_count": 69,
   "id": "8074af81",
   "metadata": {},
   "outputs": [],
   "source": [
    "xs, ys = create_dataset(40, 40, 2, coorelation='pos')"
   ]
  },
  {
   "cell_type": "code",
   "execution_count": 70,
   "id": "1820dd3c",
   "metadata": {},
   "outputs": [],
   "source": [
    "slope, intercept = best_fit_slope_and_intercept(xs, ys)"
   ]
  },
  {
   "cell_type": "code",
   "execution_count": 71,
   "id": "8938dfef",
   "metadata": {},
   "outputs": [],
   "source": [
    "regression_line = [(slope*x)+intercept for x in xs]"
   ]
  },
  {
   "cell_type": "code",
   "execution_count": 72,
   "id": "1f1c0533",
   "metadata": {},
   "outputs": [],
   "source": [
    "predict_x = 5.5\n",
    "predict_y = slope*predict_x + intercept"
   ]
  },
  {
   "cell_type": "code",
   "execution_count": 73,
   "id": "0a0ec1b6",
   "metadata": {},
   "outputs": [
    {
     "data": {
      "image/png": "[encoded data removed]",
      "text/plain": [
       "<Figure size 432x288 with 1 Axes>"
      ]
     },
     "metadata": {
      "needs_background": "light"
     },
     "output_type": "display_data"
    }
   ],
   "source": [
    "plt.scatter(xs,ys)\n",
    "plt.scatter(predict_x,predict_y, color = 'r')\n",
    "plt.plot(xs, regression_line)\n",
    "plt.show()"
   ]
  },
  {
   "cell_type": "code",
   "execution_count": null,
   "id": "29da297f",
   "metadata": {},
   "outputs": [],
   "source": []
  }
 ],
 "metadata": {
  "kernelspec": {
   "display_name": "Python 3 (ipykernel)",
   "language": "python",
   "name": "python3"
  },
  "language_info": {
   "codemirror_mode": {
    "name": "ipython",
    "version": 3
   },
   "file_extension": ".py",
   "mimetype": "text/x-python",
   "name": "python",
   "nbconvert_exporter": "python",
   "pygments_lexer": "ipython3",
   "version": "3.8.10"
  }
 },
 "nbformat": 4,
 "nbformat_minor": 5
}
